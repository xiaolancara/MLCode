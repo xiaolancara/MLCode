{
 "cells": [
  {
   "cell_type": "code",
   "execution_count": 1,
   "id": "779ee01c-763d-431d-9ec5-288e0461b27e",
   "metadata": {},
   "outputs": [
    {
     "name": "stdout",
     "output_type": "stream",
     "text": [
      "accuracy 0.9777777777777777\n",
      "y_test [2 1 0 2 0 2 0 1 1 1 2 1 1 1 1 0 1 1 0 0 2 1 0 0 2 0 0 1 1 0 2 1 0 2 2 1 0\n",
      " 1 1 1 2 0 2 0 0]\n",
      "y_pred [2, 1, 0, 2, 0, 2, 0, 1, 1, 1, 2, 1, 1, 1, 1, 0, 1, 1, 0, 0, 2, 1, 0, 0, 2, 0, 0, 1, 1, 0, 2, 1, 0, 2, 2, 1, 0, 2, 1, 1, 2, 0, 2, 0, 0]\n"
     ]
    }
   ],
   "source": [
    "import numpy as np\n",
    "from collections import Counter\n",
    "from sklearn import datasets\n",
    "from sklearn.model_selection import train_test_split\n",
    "    \n",
    "def Euclidean_distance(x1, x2):\n",
    "    return np.sqrt(np.sum((x1-x2)**2))\n",
    "\n",
    "class KNN_model:    \n",
    "    def __init__(self, k, regression):\n",
    "        self.k = k\n",
    "        self.regression = regression\n",
    "    def train(self, X, y):\n",
    "        self.train_point = X\n",
    "        self.train_label = y\n",
    "    def predict_Xtest(self, X_test):\n",
    "        y_pred = [self.predict(test_point) for test_point in X_test]\n",
    "        return y_pred\n",
    "    def predict(self, X_test):\n",
    "        distance = [Euclidean_distance(X_test, X_true)for X_true in self.train_point]\n",
    "        k_index = np.argsort(distance)[: self.k]\n",
    "        k_neighbors_label = [self.train_label[idx] for idx in k_index]\n",
    "        if self.regression == 'logistic':\n",
    "            most_common = Counter(k_neighbors_label).most_common(1)# 1 is select the first(most) counter label and count eg[(2, 5)] here k=5, label=2\n",
    "            return most_common[0][0] # select only label\n",
    "        if self.regression == 'linear':\n",
    "            return int(np.mean(k_neighbors_label))\n",
    "    def evaluation(self, y_pred, y_test):\n",
    "        if self.regression == 'logistic':\n",
    "            res = y_pred==y_test\n",
    "            accuracy = np.sum(res)/len(res)\n",
    "            return accuracy\n",
    "        if self.regression == 'linear':\n",
    "            rmse = np.sqrt(np.sum((y_pred-y_test)**2)/len(y_test))\n",
    "            return rmse\n",
    "\n",
    "if __name__ == '__main__':    \n",
    "    iris = datasets.load_iris()\n",
    "    X, y = iris.data, iris.target\n",
    "    X_train, X_test, y_train, y_test = train_test_split(X, y, test_size=0.3, random_state=0)\n",
    "    regression = 'logistic'\n",
    "    knn = KNN_model(k=5, regression=regression)\n",
    "    knn.train(X_train, y_train)\n",
    "    y_pred = knn.predict_Xtest(X_test)\n",
    "    if regression == 'logistic':\n",
    "        accuracy = knn.evaluation(y_pred, y_test)\n",
    "        print('accuracy', accuracy)\n",
    "    if regression == 'linear':\n",
    "        rmse = knn.evaluation(y_pred, y_test)\n",
    "        print('rmse', rmse)\n",
    "    print('y_test', y_test)\n",
    "    print('y_pred', y_pred)"
   ]
  },
  {
   "cell_type": "code",
   "execution_count": null,
   "id": "cd18b1c0-e2f1-4dbb-9be6-c5bfbd2d193b",
   "metadata": {},
   "outputs": [],
   "source": []
  }
 ],
 "metadata": {
  "kernelspec": {
   "display_name": "Python 3",
   "language": "python",
   "name": "python3"
  },
  "language_info": {
   "codemirror_mode": {
    "name": "ipython",
    "version": 3
   },
   "file_extension": ".py",
   "mimetype": "text/x-python",
   "name": "python",
   "nbconvert_exporter": "python",
   "pygments_lexer": "ipython3",
   "version": "3.8.8"
  }
 },
 "nbformat": 4,
 "nbformat_minor": 5
}
